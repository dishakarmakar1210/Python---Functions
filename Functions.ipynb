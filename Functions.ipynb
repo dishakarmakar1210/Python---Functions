{
  "nbformat": 4,
  "nbformat_minor": 0,
  "metadata": {
    "colab": {
      "provenance": []
    },
    "kernelspec": {
      "name": "python3",
      "display_name": "Python 3"
    },
    "language_info": {
      "name": "python"
    }
  },
  "cells": [
    {
      "cell_type": "markdown",
      "source": [
        "1. What is the difference between a function and a method in Python?\n",
        "-> A function is an independent block of code that can be defined using the def keyword.\n",
        "It can be called directly without being associated with any object.\n",
        "\n",
        "def greet(name):\n",
        "\n",
        "    return f\"Hello, {name}!\"\n",
        "\n",
        "print(greet(\"Disha\"))  # Calling the function\n",
        "\n",
        "\n",
        "\n",
        "A method is a function that is associated with an object (usually inside a class).\n",
        "It is called on an object using dot notation.\n",
        "\n",
        "class Calculator:\n",
        "\n",
        "    def add(self, a, b):  \n",
        "        return a + b\n",
        "\n",
        "    def multiply(self, a, b):  \n",
        "        return a * b\n",
        "\n",
        "\n",
        "calc = Calculator()\n",
        "\n",
        "print(calc.add(5, 3))     \n",
        "print(calc.multiply(4, 6))\n",
        "2. Explain the concept of function arguments and parameters in Python.\n",
        "-> Parameters are Variables listed inside the function definition.They act as placeholders for values that the function will receive when called.\n",
        "\n",
        "Arguemnts are the actual values passed to a function when calling it.\n",
        "They provide input to the function to execute its logic.\n",
        "\n",
        "def greet(name):  # 'name' is a parameter\n",
        "   \n",
        "    print(f\"Hello, {name}!\")\n",
        "\n",
        "greet(\"Disha\")  # \"Disha\" is an argument\n",
        "3. What are the different ways to define and call a function in Python?\n",
        "->  \n",
        "#Standard Function Definition:\n",
        "\n",
        "\n",
        "\n",
        "def greet(name):\n",
        "   \n",
        "    print(f\"Hello, {name}!\")\n",
        "\n",
        "greet(\"Disha\")  # Calling the function\n",
        "\n",
        "\n",
        "#Function with Return Value:\n",
        "\n",
        " def add(a, b):\n",
        "  \n",
        "    return a + b\n",
        "\n",
        "result = add(5, 3)  # Calling the function\n",
        "\n",
        "print(result)  # Output: 8\n",
        "\n",
        "#Function with Default Arguments:\n",
        "\n",
        "\n",
        "def greet(name=\"Guest\"):\n",
        "\n",
        "    print(f\"Hello, {name}!\")\n",
        "\n",
        "\n",
        "greet()        # Output: Hello, Guest!\n",
        "\n",
        "greet(\"Disha\") # Output: Hello, Disha!\n",
        "\n",
        "#Function with Variable-Length Arguments (*args)\n",
        "\n",
        "def sum_numbers(*args):\n",
        "\n",
        "    return sum(args)\n",
        "\n",
        "print(sum_numbers(1, 2, 3, 4, 5))  # Output: 15\n",
        "\n",
        "#Function with Keyword Arguments (**kwargs)\n",
        "\n",
        "def person_info(**kwargs):\n",
        "\n",
        "    for key, value in kwargs.items():\n",
        "\n",
        "        print(f\"{key}: {value}\")\n",
        "\n",
        "person_info(name=\"Disha\", age=21, city=\"Delhi\")\n",
        "\n",
        "#Anonymous (Lambda) Function\n",
        "\n",
        "square = lambda x: x ** 2\n",
        "\n",
        "print(square(5))  # Output: 25\n",
        "\n",
        "4. What is the purpose of the `return` statement in a Python function?\n",
        "-> The return statement in Python is used to send back a value from a function to the caller. It ends the function execution and provides the result to the calling code.\n",
        "\n",
        "def add(a, b):\n",
        "    \n",
        "    return a + b  # Returns the sum of a and b\n",
        "\n",
        "result = add(3, 5)\n",
        "\n",
        "print(result)  # Output: 8\n",
        "\n",
        "5. What are iterators in Python and how do they differ from iterables?\n",
        "-> An iterable is an object that contains multiple elements and can be looped over. Examples: Lists, tuples, strings, dictionaries, sets, etc. It must implement the __iter__() method, which returns an iterator.\n",
        "\n",
        "numbers = [1, 2, 3]  # List is iterable\n",
        "\n",
        "\n",
        "for num in numbers:\n",
        "\n",
        "\n",
        "    print(num)\n",
        "\n",
        "An iterator is an object that produces values one at a time (lazily) when requested.\n",
        "It must implement the __iter__() and __next__() methods.\n",
        "Once exhausted, it cannot be reused unless recreated.\n",
        "\n",
        "numbers = [1, 2, 3]\n",
        "\n",
        "iterator = iter(numbers)  # Creating an iterator\n",
        "\n",
        "from a list\n",
        "\n",
        "print(next(iterator))  # Output: 1\n",
        "\n",
        "print(next(iterator))  # Output: 2\n",
        "\n",
        "print(next(iterator))  # Output: 3\n",
        "\n",
        "print(next(iterator))  # Raises StopIteration since there are no more elements\n",
        "6. Explain the concept of generators in Python and how they are defined.\n",
        "-> Generators are a special type of iterator in Python that allow you to generate values lazily, meaning they produce values one at a time only when needed, instead of storing them all in memory.\n",
        "\n",
        "def count_up(limit):\n",
        "\n",
        "    num = 1\n",
        "\n",
        "    while num <= limit:\n",
        "\n",
        "        yield num  # Returns the value but keeps the function state\n",
        "\n",
        "        num += 1\n",
        "\n",
        "Using the generator\n",
        "\n",
        "counter = count_up(3)\n",
        "\n",
        "print(next(counter))  # Output: 1\n",
        "\n",
        "print(next(counter))  # Output: 2\n",
        "\n",
        "print(next(counter))  # Output: 3\n",
        "\n",
        "print(next(counter))  # Raises StopIteration\n",
        "\n",
        "7. What are the advantages of using generators over regular functions?\n",
        "->\n",
        "\n",
        "*   Generators yield values one at a time instead of storing all values in memory.\n",
        "This is useful when working with large datasets.\n",
        "\n",
        "def large_numbers():\n",
        "\n",
        "    for i in range(1, 1000000):  # Huge range\n",
        "\n",
        "        yield i  # Only generates one number at a time\n",
        "\n",
        "gen = large_numbers()  # No large memory usage!\n",
        "*   Regular functions compute and store all values before returning.\n",
        "Generators compute values only when requested, improving performance.\n",
        "8. What is a lambda function in Python and when is it typically used?\n",
        "-> A lambda function (also called an anonymous function) is a small, one-line function that doesn't require a name or the def keyword. It is created using the lambda keyword.\n",
        "\n",
        "lambda arguments: expression\n",
        "\n",
        "E.g.\n",
        "\n",
        "square = lambda x: x * x\n",
        "\n",
        "print(square(5))  # Output: 25\n",
        "\n",
        "Lambda functions are commonly used for simple, one-time use functions (instead of defining a full def function) or inside built-in functions (map(), filter(), sorted(), etc.)\n",
        "9. Explain the purpose and usage of the `map()` function in Python.\n",
        "-> The map() function in Python is used to apply a function to every item in an iterable (like a list or tuple) without using loops. It returns an iterator, which is memory efficient.\n",
        "\n",
        "Using map() with a Regular Function:\n",
        "\n",
        "def square(x):\n",
        "\n",
        "    return x * x\n",
        "\n",
        "nums = [1, 2, 3, 4]\n",
        "\n",
        "squared_nums = map(square, nums)\n",
        "\n",
        "print(list(squared_nums))  # Output: [1, 4, 9, 16]\n",
        "\n",
        "Using map() with a Lambda Function:\n",
        "\n",
        "nums = [1, 2, 3, 4]\n",
        "\n",
        "squared_nums = list(map(lambda x: x * x, nums))\n",
        "\n",
        "print(squared_nums)  # Output: [1, 4, 9, 16]\n",
        "\n",
        "10. What is the difference between `map()`, `reduce()`, and `filter()` functions in Python?\n",
        "-> The map(), filter(), and reduce() functions in Python are higher-order functions used for processing iterables efficiently.\n",
        "\n",
        "The map() function applies a given function to each element in an iterable and returns a transformed iterable, making it useful for modifying all elements, such as squaring numbers (map(lambda x: x*x, nums)).\n",
        "\n",
        "The filter() function selects elements based on a condition, returning only those that satisfy the given function (filter(lambda x: x % 2 == 0, nums)), making it ideal for filtering data.\n",
        "\n",
        "The reduce() function, from the functools module, applies a function cumulatively to reduce an iterable to a single value, such as calculating the product of numbers (reduce(lambda x, y: x * y, nums)).\n",
        "\n",
        "While map() and filter() return iterables, reduce() provides a single accumulated result. In summary, map() is used for transformations, filter() for selecting specific elements, and reduce() for cumulative computations.\n",
        "\n",
        "11. Using pen & Paper write the internal mechanism for sum operation using  reduce function on this given\n",
        "list:[47,11,42,13].\n",
        "\n",
        "-> https://drive.google.com/file/d/1VBss9xgnRBQ7Ru5eDFd3HEviYjM_nSk7/view?usp=drive_link\n",
        "\n",
        "\n",
        "\n",
        "\n"
      ],
      "metadata": {
        "id": "MBrK7tZMvTik"
      }
    },
    {
      "cell_type": "code",
      "source": [
        "# Write a Python function that takes a list of numbers as input and returns the sum of all even numbers inthe list.\n",
        "def sum_even_numbers(numbers):\n",
        "    sum_even = 0\n",
        "    for num in numbers:\n",
        "        if num % 2 == 0:\n",
        "            sum_even += num\n",
        "    return sum_even\n",
        "\n",
        "sum_even_numbers([1,2,3,4,5,6])"
      ],
      "metadata": {
        "colab": {
          "base_uri": "https://localhost:8080/"
        },
        "id": "d82e6p2zcSDH",
        "outputId": "8ee3ffca-5cc7-4183-e20a-826acdd1a67e"
      },
      "execution_count": null,
      "outputs": [
        {
          "output_type": "execute_result",
          "data": {
            "text/plain": [
              "12"
            ]
          },
          "metadata": {},
          "execution_count": 3
        }
      ]
    },
    {
      "cell_type": "code",
      "source": [
        "# Create a Python function that accepts a string and returns the reverse of that string.\n",
        "def reverse_string(string):\n",
        "    return string[::-1]\n",
        "\n",
        "reverse_string(\"Disha\")"
      ],
      "metadata": {
        "colab": {
          "base_uri": "https://localhost:8080/",
          "height": 35
        },
        "id": "EUhy1FF-c1iq",
        "outputId": "caa2b75c-c9c4-4e4d-f4f5-94fe1d040b63"
      },
      "execution_count": null,
      "outputs": [
        {
          "output_type": "execute_result",
          "data": {
            "text/plain": [
              "'ahsiD'"
            ],
            "application/vnd.google.colaboratory.intrinsic+json": {
              "type": "string"
            }
          },
          "metadata": {},
          "execution_count": 4
        }
      ]
    },
    {
      "cell_type": "code",
      "source": [
        "#Implement a Python function that takes a list of integers and returns a new list containing the squares of each number.\n",
        "def square_numbers(numbers):\n",
        "    squared_numbers = [num ** 2 for num in numbers]\n",
        "    return squared_numbers\n",
        "\n",
        "square_numbers([1,2,3,4,5])"
      ],
      "metadata": {
        "colab": {
          "base_uri": "https://localhost:8080/"
        },
        "id": "ewI3Rxbjc6NU",
        "outputId": "1ff0dd2c-4028-49c2-9e87-2f6f40b673b3"
      },
      "execution_count": null,
      "outputs": [
        {
          "output_type": "execute_result",
          "data": {
            "text/plain": [
              "[1, 4, 9, 16, 25]"
            ]
          },
          "metadata": {},
          "execution_count": 5
        }
      ]
    },
    {
      "cell_type": "code",
      "source": [
        "#Write a Python function that checks if a given number is prime or not from 1 to 200\n",
        "def is_prime(n):\n",
        "    if n < 2:\n",
        "        return False\n",
        "    for i in range(2, int(n ** 0.5) + 1): #reducing the searching space, instead of n we are writing root n +1\n",
        "        if n % i == 0:\n",
        "            return False\n",
        "    return True\n",
        "\n",
        "# Check prime numbers from 1 to 200\n",
        "prime_numbers = [num for num in range(1, 201) if is_prime(num)]\n",
        "print(prime_numbers)\n"
      ],
      "metadata": {
        "colab": {
          "base_uri": "https://localhost:8080/"
        },
        "id": "ABAHdEFfdFxh",
        "outputId": "11a84e4e-642a-4251-fef6-9c1999bcbfc6"
      },
      "execution_count": null,
      "outputs": [
        {
          "output_type": "stream",
          "name": "stdout",
          "text": [
            "[2, 3, 5, 7, 11, 13, 17, 19, 23, 29, 31, 37, 41, 43, 47, 53, 59, 61, 67, 71, 73, 79, 83, 89, 97, 101, 103, 107, 109, 113, 127, 131, 137, 139, 149, 151, 157, 163, 167, 173, 179, 181, 191, 193, 197, 199]\n"
          ]
        }
      ]
    },
    {
      "cell_type": "code",
      "source": [
        "#Write a generator function in Python that yields the powers of 2 up to a given exponent.\n",
        "\n",
        "def powers_of_2(exponent):\n",
        "\n",
        "  for i in range(exponent + 1):\n",
        "    yield 2**i\n",
        "\n",
        "a = powers_of_2(5)\n",
        "for i in a:\n",
        "  print(i)"
      ],
      "metadata": {
        "colab": {
          "base_uri": "https://localhost:8080/"
        },
        "id": "uTTdzTTdeSD-",
        "outputId": "65595709-1bfc-4678-e089-b17a4d786ac0"
      },
      "execution_count": null,
      "outputs": [
        {
          "output_type": "stream",
          "name": "stdout",
          "text": [
            "1\n",
            "2\n",
            "4\n",
            "8\n",
            "16\n",
            "32\n"
          ]
        }
      ]
    },
    {
      "cell_type": "code",
      "source": [
        "#Implement a generator function that reads a file line by line and yields each line as a string.\n",
        "def read_file_lines(filename):\n",
        "    with open(filename, 'r') as file:\n",
        "        for line in file:\n",
        "            yield line\n",
        "filename = \"random.txt\"  # Replace with your file path\n",
        "for line in read_file_lines(filename):\n",
        "    print(line)"
      ],
      "metadata": {
        "colab": {
          "base_uri": "https://localhost:8080/"
        },
        "id": "3jHYmSWZfwUC",
        "outputId": "a3fb9383-46b6-4c7d-e0b8-5b6190b022e8"
      },
      "execution_count": null,
      "outputs": [
        {
          "output_type": "stream",
          "name": "stdout",
          "text": [
            "Python is a high-level, general-purpose programming language. Its design philosophy emphasizes code readability with the use of significant indentation. Python is dynamically type-checked and garbage-collected.\n"
          ]
        }
      ]
    },
    {
      "cell_type": "code",
      "source": [
        " #Use a lambda function in Python to sort a list of tuples based on the second element of each tuple.\n",
        " data = [(1, 5), (3, 2), (4, 8), (2, 1)]\n",
        "\n",
        "# Sorting based on the second element of each tuple\n",
        "sorted_data = sorted(data, key=lambda x: x[1])\n",
        "\n",
        "print(sorted_data)"
      ],
      "metadata": {
        "colab": {
          "base_uri": "https://localhost:8080/"
        },
        "id": "Cp1UVmoZj0jf",
        "outputId": "d23d0663-83c1-497f-ef0e-b0687af7afe6"
      },
      "execution_count": null,
      "outputs": [
        {
          "output_type": "stream",
          "name": "stdout",
          "text": [
            "[(2, 1), (3, 2), (1, 5), (4, 8)]\n"
          ]
        }
      ]
    },
    {
      "cell_type": "code",
      "source": [
        "# Write a Python program that uses `map()` to convert a list of temperatures from Celsius to Fahrenheit.\n",
        "celsius_temps = [0, 10, 20, 30, 40, 100]\n",
        "\n",
        "# Convert to Fahrenheit using map() and lambda\n",
        "fahrenheit_temps = list(map(lambda c: (c * 9/5) + 32, celsius_temps))\n",
        "\n",
        "print(fahrenheit_temps)"
      ],
      "metadata": {
        "colab": {
          "base_uri": "https://localhost:8080/"
        },
        "id": "t9SgiV9NkL5p",
        "outputId": "2987b1ce-ec67-41d1-bd55-4175de0de017"
      },
      "execution_count": null,
      "outputs": [
        {
          "output_type": "stream",
          "name": "stdout",
          "text": [
            "[32.0, 50.0, 68.0, 86.0, 104.0, 212.0]\n"
          ]
        }
      ]
    },
    {
      "cell_type": "code",
      "source": [
        "#Create a Python program that uses `filter()` to remove all the vowels from a given string.\n",
        "def remove_vowels(string):\n",
        "    \"\"\"Remove vowels from a string using filter()\"\"\"\n",
        "    vowels = \"aeiouAEIOU\"\n",
        "    return \"\".join(filter(lambda ch: ch not in vowels, string))\n",
        "\n",
        "text = \"Hello I'm Disha\"\n",
        "result = remove_vowels(text)\n",
        "print(result)\n"
      ],
      "metadata": {
        "colab": {
          "base_uri": "https://localhost:8080/"
        },
        "id": "26OIJK3SkspJ",
        "outputId": "75b00b93-c0d9-4bab-dab2-9434a812bc70"
      },
      "execution_count": null,
      "outputs": [
        {
          "output_type": "stream",
          "name": "stdout",
          "text": [
            "Hll 'm Dsh\n"
          ]
        }
      ]
    },
    {
      "cell_type": "code",
      "source": [
        "#Write a Python program, which returns a list with 2-tuples. Each tuple consists of the order number and the product of the price per item and the quantity. The product should be increased by 10,- € if the value of theorder is smaller than 100,00 €. Write a Python program using lambda and map\n",
        "\n",
        "orders = [ #given orders\n",
        "    (34587, \"Learning Python, Mark Lutz\", 4, 40.95),\n",
        "    (98762, \"Programming Python, Mark Lutz\", 5, 56.80),\n",
        "    (77226, \"Head First Python, Paul Barry\", 3, 32.95),\n",
        "    (88112, \"Einführung in Python3, Bernd Klein\", 3, 24.99)\n",
        "]\n",
        "\n",
        "# Using map() and lambda to process orders\n",
        "result = list(map(lambda order: (order[0], order[2] * order[3] + (10 if order[2] * order[3] < 100 else 0)), orders)) # adding 10 to the total price if it is less than 100 or else adding 0\n",
        "\n",
        "\n",
        "print(result)\n"
      ],
      "metadata": {
        "colab": {
          "base_uri": "https://localhost:8080/"
        },
        "id": "qChLLlTBlNF8",
        "outputId": "e6adbb89-e676-44de-e83b-1d35a801b486"
      },
      "execution_count": null,
      "outputs": [
        {
          "output_type": "stream",
          "name": "stdout",
          "text": [
            "[(34587, 163.8), (98762, 284.0), (77226, 108.85000000000001), (88112, 84.97)]\n"
          ]
        }
      ]
    }
  ]
}